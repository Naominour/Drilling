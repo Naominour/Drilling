{
 "cells": [
  {
   "cell_type": "code",
   "execution_count": 3,
   "metadata": {},
   "outputs": [],
   "source": [
    "from re import L\n",
    "import pandas as pd\n",
    "import numpy as np\n",
    "from sklearn.model_selection import train_test_split\n",
    "from sklearn.linear_model import LinearRegression\n",
    "from sklearn.ensemble import RandomForestRegressor\n",
    "from sklearn.metrics import mean_squared_error, r2_score\n",
    "from sklearn.preprocessing import RobustScaler\n",
    "from sklearn.multioutput import MultiOutputRegressor\n"
   ]
  },
  {
   "cell_type": "code",
   "execution_count": 5,
   "metadata": {},
   "outputs": [],
   "source": [
    "df_rev = pd.read_excel('G:\\My Drive\\Drilling\\Drilling_Data.xls')\n",
    "\n",
    "df_rev = df_rev.drop(\n",
    "    ['MD', 'WOB', 'TRQ', 'SPP', 'Flow In', 'SPM', 'Actpitv', 'HOOKLOAD', 'CSIP',\n",
    "     'P ovb For Soft formation', 'P ovb For Hard formation', 'P ovb', 'd',\n",
    "     'D adjust', 'PP Eaton Method'], axis=1\n",
    ")\n",
    "df_rev = df_rev.drop(0, axis=0)\n",
    "df_rev = df_rev.reset_index(drop=True)\n",
    "\n",
    "\n",
    "numeric_columns = ['ROP', 'ROP.1', 'WOB.1', 'BIT_RPM', 'MWI', 'MWO',\n",
    "                   'PP Zamora Method']\n",
    "\n",
    "for column in numeric_columns:\n",
    "    df_rev[column] = pd.to_numeric(df_rev[column], errors='coerce')"
   ]
  },
  {
   "cell_type": "code",
   "execution_count": 6,
   "metadata": {},
   "outputs": [
    {
     "name": "stdout",
     "output_type": "stream",
     "text": [
      "\n",
      "Linear Regression Performance (with Transformation and Scaling):\n",
      "ROP - MSE: 0.430557, R2 Score: 0.004752\n",
      "ROP.1 - MSE: 0.727949, R2 Score: 0.004136\n",
      "WOB.1 - MSE: 0.411304, R2 Score: 0.045215\n",
      "BIT_RPM - MSE: 0.628274, R2 Score: 0.013334\n",
      "MWI - MSE: 8.063806, R2 Score: 0.059250\n",
      "MWO - MSE: 15.066460, R2 Score: 0.033940\n",
      "\n",
      "Random Forest Performance (with Transformation and Scaling):\n",
      "ROP - MSE: 0.250694, R2 Score: 0.420513\n",
      "ROP.1 - MSE: 0.454569, R2 Score: 0.378131\n",
      "WOB.1 - MSE: 0.223299, R2 Score: 0.481642\n",
      "BIT_RPM - MSE: 0.167683, R2 Score: 0.736664\n",
      "MWI - MSE: 1.459805, R2 Score: 0.829694\n",
      "MWO - MSE: 2.727557, R2 Score: 0.825109\n",
      "\n",
      "Predictions for New PP Zamora Method (Linear Regression):\n",
      "ROP: -0.9832572192075889, ROP.1: 1.9152253570758528, WOB.1: 455437283.2528059, BIT_RPM: -0.5698821543020106, MWI: -0.794391806323378, MWO: 0.23815997108081133\n",
      "\n",
      "Predictions for New PP Zamora Method (Random Forest):\n",
      "ROP: 8.135196509843972, ROP.1: 0.12579116849454058, WOB.1: 3.2614415727301838, BIT_RPM: 198.58803584320378, MWI: 74.13499353230388, MWO: 82.60317774160954\n"
     ]
    },
    {
     "name": "stderr",
     "output_type": "stream",
     "text": [
      "c:\\Users\\H.Naeeme\\AppData\\Local\\Programs\\Python\\Python311\\Lib\\site-packages\\sklearn\\base.py:439: UserWarning: X does not have valid feature names, but RobustScaler was fitted with feature names\n",
      "  warnings.warn(\n"
     ]
    }
   ],
   "source": [
    "# Define the input (X) and target outputs (Y)\n",
    "X = df_rev[['PP Zamora Method']]  \n",
    "Y = df_rev[['ROP', 'ROP.1', 'WOB.1', 'BIT_RPM', 'MWI', 'MWO']]  # Multiple targets\n",
    "\n",
    "# Log Transformation (on both X and Y to reduce skewness)\n",
    "X_log = np.log1p(X)\n",
    "Y_log = np.log1p(Y)\n",
    "\n",
    "# Robust Scaling (to normalize features and targets)\n",
    "x_scaler = RobustScaler()\n",
    "y_scaler = RobustScaler()\n",
    "\n",
    "X_scaled = x_scaler.fit_transform(X_log)\n",
    "Y_scaled = y_scaler.fit_transform(Y_log)\n",
    "\n",
    "# Split into train/test sets\n",
    "X_train, X_test, Y_train, Y_test = train_test_split(X_scaled, Y_scaled, test_size=0.3, random_state=42)\n",
    "\n",
    "# Model 1: Linear Regression for Multi-Output\n",
    "lr = MultiOutputRegressor(LinearRegression())\n",
    "lr.fit(X_train, Y_train)\n",
    "Y_pred_lr = lr.predict(X_test)\n",
    "\n",
    "print(\"\\nLinear Regression Performance (with Transformation and Scaling):\")\n",
    "for i, col in enumerate(Y.columns):\n",
    "    print(f\"{col} - MSE: {mean_squared_error(Y_test[:, i], Y_pred_lr[:, i]):.6f}, \"\n",
    "          f\"R2 Score: {r2_score(Y_test[:, i], Y_pred_lr[:, i]):.6f}\")\n",
    "\n",
    "# Model 2: Random Forest Regressor for Multi-Output\n",
    "rf = MultiOutputRegressor(RandomForestRegressor(n_estimators=100, random_state=42))\n",
    "rf.fit(X_train, Y_train)\n",
    "Y_pred_rf = rf.predict(X_test)\n",
    "\n",
    "print(\"\\nRandom Forest Performance (with Transformation and Scaling):\")\n",
    "for i, col in enumerate(Y.columns):\n",
    "    print(f\"{col} - MSE: {mean_squared_error(Y_test[:, i], Y_pred_rf[:, i]):.6f}, \"\n",
    "          f\"R2 Score: {r2_score(Y_test[:, i], Y_pred_rf[:, i]):.6f}\")\n",
    "\n",
    "# Predictions for New Data\n",
    "new_pp_zamora = [[0.9]]  \n",
    "new_pp_zamora_transformed = x_scaler.transform(np.log1p(new_pp_zamora))\n",
    "\n",
    "new_predictions_lr = lr.predict(new_pp_zamora_transformed)\n",
    "new_predictions_rf = rf.predict(new_pp_zamora_transformed)\n",
    "\n",
    "# Inverse transformations to interpret predictions\n",
    "new_predictions_lr_original = np.expm1(y_scaler.inverse_transform(new_predictions_lr))\n",
    "new_predictions_rf_original = np.expm1(y_scaler.inverse_transform(new_predictions_rf))\n",
    "\n",
    "print(\"\\nPredictions for New PP Zamora Method (Linear Regression):\")\n",
    "print(f\"ROP: {new_predictions_lr_original[0][0]}, ROP.1: {new_predictions_lr_original[0][1]}, \"\n",
    "      f\"WOB.1: {new_predictions_lr_original[0][2]}, BIT_RPM: {new_predictions_lr_original[0][3]}, \"\n",
    "      f\"MWI: {new_predictions_lr_original[0][4]}, MWO: {new_predictions_lr_original[0][5]}\")\n",
    "\n",
    "print(\"\\nPredictions for New PP Zamora Method (Random Forest):\")\n",
    "print(f\"ROP: {new_predictions_rf_original[0][0]}, ROP.1: {new_predictions_rf_original[0][1]}, \"\n",
    "      f\"WOB.1: {new_predictions_rf_original[0][2]}, BIT_RPM: {new_predictions_rf_original[0][3]}, \"\n",
    "      f\"MWI: {new_predictions_rf_original[0][4]}, MWO: {new_predictions_rf_original[0][5]}\")\n"
   ]
  },
  {
   "cell_type": "code",
   "execution_count": 7,
   "metadata": {},
   "outputs": [
    {
     "name": "stderr",
     "output_type": "stream",
     "text": [
      "c:\\Users\\H.Naeeme\\AppData\\Local\\Programs\\Python\\Python311\\Lib\\site-packages\\sklearn\\base.py:439: UserWarning: X does not have valid feature names, but RobustScaler was fitted with feature names\n",
      "  warnings.warn(\n"
     ]
    },
    {
     "name": "stdout",
     "output_type": "stream",
     "text": [
      "\n",
      "Predictions for New PP Zamora Method Value:\n",
      "Input PP Zamora Method: 8.586818\n",
      "\n",
      "Linear Regression Predictions:\n",
      "ROP: 8.134727\n",
      "ROP.1: 0.170041\n",
      "WOB.1: 3.642256\n",
      "BIT_RPM: 134.766602\n",
      "MWI: 80.745101\n",
      "MWO: 81.526873\n",
      "\n",
      "Random Forest Predictions:\n",
      "ROP: 5.621921\n",
      "ROP.1: 0.203073\n",
      "WOB.1: 2.404094\n",
      "BIT_RPM: 56.168538\n",
      "MWI: 64.519585\n",
      "MWO: 65.144585\n"
     ]
    }
   ],
   "source": [
    "# Example: Input a new value for PP Zamora Method\n",
    "new_pp_zamora_value = [[8.586818]]\n",
    "\n",
    "# Log Transform and Scale the Input\n",
    "new_pp_zamora_transformed = x_scaler.transform(np.log1p(new_pp_zamora_value))\n",
    "\n",
    "# Get Predictions from Each Model\n",
    "# Linear Regression Prediction\n",
    "linear_pred = lr.predict(new_pp_zamora_transformed)\n",
    "linear_pred_original = np.expm1(y_scaler.inverse_transform(linear_pred))  # Inverse transform to original scale\n",
    "\n",
    "# Random Forest Prediction\n",
    "rf_pred = rf.predict(new_pp_zamora_transformed)\n",
    "rf_pred_original = np.expm1(y_scaler.inverse_transform(rf_pred))  # Inverse transform to original scale\n",
    "\n",
    "# Display Predictions\n",
    "print(\"\\nPredictions for New PP Zamora Method Value:\")\n",
    "print(f\"Input PP Zamora Method: {new_pp_zamora_value[0][0]}\")\n",
    "\n",
    "print(\"\\nLinear Regression Predictions:\")\n",
    "for i, col in enumerate(Y.columns):\n",
    "    print(f\"{col}: {linear_pred_original[0][i]:.6f}\")\n",
    "\n",
    "print(\"\\nRandom Forest Predictions:\")\n",
    "for i, col in enumerate(Y.columns):\n",
    "    print(f\"{col}: {rf_pred_original[0][i]:.6f}\")\n"
   ]
  }
 ],
 "metadata": {
  "kernelspec": {
   "display_name": "Python 3",
   "language": "python",
   "name": "python3"
  },
  "language_info": {
   "codemirror_mode": {
    "name": "ipython",
    "version": 3
   },
   "file_extension": ".py",
   "mimetype": "text/x-python",
   "name": "python",
   "nbconvert_exporter": "python",
   "pygments_lexer": "ipython3",
   "version": "3.11.0"
  }
 },
 "nbformat": 4,
 "nbformat_minor": 2
}
