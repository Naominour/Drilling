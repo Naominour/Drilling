{
 "cells": [
  {
   "cell_type": "code",
   "execution_count": 1,
   "metadata": {
    "executionInfo": {
     "elapsed": 549,
     "status": "ok",
     "timestamp": 1731524035408,
     "user": {
      "displayName": "Naeimeh Nour",
      "userId": "06407853353421918609"
     },
     "user_tz": 0
    },
    "id": "slUCyZAYyK4v"
   },
   "outputs": [],
   "source": [
    "import pandas as pd\n",
    "import numpy as np\n",
    "import matplotlib.pyplot as plt\n",
    "import seaborn as sns\n",
    "\n",
    "from re import L\n",
    "from sklearn.linear_model import LinearRegression, Ridge\n",
    "from sklearn.ensemble import RandomForestRegressor\n",
    "from sklearn.metrics import mean_squared_error, r2_score\n",
    "from sklearn.preprocessing import RobustScaler\n",
    "from sklearn.model_selection import train_test_split, cross_val_score"
   ]
  },
  {
   "cell_type": "code",
   "execution_count": 31,
   "metadata": {
    "colab": {
     "base_uri": "https://localhost:8080/",
     "height": 290
    },
    "executionInfo": {
     "elapsed": 332,
     "status": "ok",
     "timestamp": 1731524036859,
     "user": {
      "displayName": "Naeimeh Nour",
      "userId": "06407853353421918609"
     },
     "user_tz": 0
    },
    "id": "Tn1tUBD2yK1_",
    "outputId": "6035f1c2-143e-4f7a-992a-c2ec73f4fafe"
   },
   "outputs": [
    {
     "data": {
      "text/html": [
       "<div>\n",
       "<style scoped>\n",
       "    .dataframe tbody tr th:only-of-type {\n",
       "        vertical-align: middle;\n",
       "    }\n",
       "\n",
       "    .dataframe tbody tr th {\n",
       "        vertical-align: top;\n",
       "    }\n",
       "\n",
       "    .dataframe thead th {\n",
       "        text-align: right;\n",
       "    }\n",
       "</style>\n",
       "<table border=\"1\" class=\"dataframe\">\n",
       "  <thead>\n",
       "    <tr style=\"text-align: right;\">\n",
       "      <th></th>\n",
       "      <th>depth</th>\n",
       "      <th>rop</th>\n",
       "      <th>wob</th>\n",
       "      <th>rpm_bit</th>\n",
       "      <th>mudweight_in</th>\n",
       "      <th>mudweight_out</th>\n",
       "      <th>P ovb For Soft formation</th>\n",
       "      <th>P ovb For Hard formation</th>\n",
       "      <th>P ovb</th>\n",
       "      <th>d</th>\n",
       "      <th>D-Adjust</th>\n",
       "      <th>PP Zamora Method</th>\n",
       "      <th>PP Eaton Method</th>\n",
       "    </tr>\n",
       "  </thead>\n",
       "  <tbody>\n",
       "    <tr>\n",
       "      <th>0</th>\n",
       "      <td>61</td>\n",
       "      <td>0.1</td>\n",
       "      <td>3.2</td>\n",
       "      <td>71</td>\n",
       "      <td>65.0</td>\n",
       "      <td>66.0</td>\n",
       "      <td>0.88</td>\n",
       "      <td>0.92</td>\n",
       "      <td>0.9</td>\n",
       "      <td>0.73</td>\n",
       "      <td>0.72</td>\n",
       "      <td>8.54</td>\n",
       "      <td>7.9</td>\n",
       "    </tr>\n",
       "    <tr>\n",
       "      <th>1</th>\n",
       "      <td>62</td>\n",
       "      <td>0.1</td>\n",
       "      <td>3.2</td>\n",
       "      <td>71</td>\n",
       "      <td>66.0</td>\n",
       "      <td>66.0</td>\n",
       "      <td>0.88</td>\n",
       "      <td>0.92</td>\n",
       "      <td>0.9</td>\n",
       "      <td>0.73</td>\n",
       "      <td>0.73</td>\n",
       "      <td>8.67</td>\n",
       "      <td>7.8</td>\n",
       "    </tr>\n",
       "    <tr>\n",
       "      <th>2</th>\n",
       "      <td>63</td>\n",
       "      <td>0.1</td>\n",
       "      <td>3.2</td>\n",
       "      <td>71</td>\n",
       "      <td>66.0</td>\n",
       "      <td>66.0</td>\n",
       "      <td>0.88</td>\n",
       "      <td>0.92</td>\n",
       "      <td>0.9</td>\n",
       "      <td>0.73</td>\n",
       "      <td>0.73</td>\n",
       "      <td>8.67</td>\n",
       "      <td>7.8</td>\n",
       "    </tr>\n",
       "    <tr>\n",
       "      <th>3</th>\n",
       "      <td>64</td>\n",
       "      <td>0.2</td>\n",
       "      <td>2.0</td>\n",
       "      <td></td>\n",
       "      <td>66.0</td>\n",
       "      <td>66.0</td>\n",
       "      <td>0.88</td>\n",
       "      <td>0.92</td>\n",
       "      <td>0.9</td>\n",
       "      <td>0.67</td>\n",
       "      <td>0.67</td>\n",
       "      <td>8.67</td>\n",
       "      <td>7.8</td>\n",
       "    </tr>\n",
       "    <tr>\n",
       "      <th>4</th>\n",
       "      <td>65</td>\n",
       "      <td>0.3</td>\n",
       "      <td>1.8</td>\n",
       "      <td>83</td>\n",
       "      <td>66.0</td>\n",
       "      <td>66.0</td>\n",
       "      <td>0.88</td>\n",
       "      <td>0.92</td>\n",
       "      <td>0.9</td>\n",
       "      <td>0.64</td>\n",
       "      <td>0.64</td>\n",
       "      <td>8.67</td>\n",
       "      <td>7.8</td>\n",
       "    </tr>\n",
       "  </tbody>\n",
       "</table>\n",
       "</div>"
      ],
      "text/plain": [
       "   depth   rop  wob rpm_bit  mudweight_in   mudweight_out   \\\n",
       "0      61  0.1  3.2      71           65.0            66.0   \n",
       "1      62  0.1  3.2      71           66.0            66.0   \n",
       "2      63  0.1  3.2      71           66.0            66.0   \n",
       "3      64  0.2  2.0                   66.0            66.0   \n",
       "4      65  0.3  1.8      83           66.0            66.0   \n",
       "\n",
       "   P ovb For Soft formation  P ovb For Hard formation  P ovb     d  D-Adjust  \\\n",
       "0                      0.88                      0.92    0.9  0.73      0.72   \n",
       "1                      0.88                      0.92    0.9  0.73      0.73   \n",
       "2                      0.88                      0.92    0.9  0.73      0.73   \n",
       "3                      0.88                      0.92    0.9  0.67      0.67   \n",
       "4                      0.88                      0.92    0.9  0.64      0.64   \n",
       "\n",
       "   PP Zamora Method  PP Eaton Method  \n",
       "0              8.54              7.9  \n",
       "1              8.67              7.8  \n",
       "2              8.67              7.8  \n",
       "3              8.67              7.8  \n",
       "4              8.67              7.8  "
      ]
     },
     "execution_count": 31,
     "metadata": {},
     "output_type": "execute_result"
    }
   ],
   "source": [
    "# Load the dataset\n",
    "df = pd.read_csv('E:\\Drive\\Drilling\\MI-127.csv')\n",
    "df.head()"
   ]
  },
  {
   "cell_type": "code",
   "execution_count": 32,
   "metadata": {},
   "outputs": [
    {
     "name": "stdout",
     "output_type": "stream",
     "text": [
      "<class 'pandas.core.frame.DataFrame'>\n",
      "RangeIndex: 2377 entries, 0 to 2376\n",
      "Data columns (total 13 columns):\n",
      " #   Column                    Non-Null Count  Dtype  \n",
      "---  ------                    --------------  -----  \n",
      " 0   depth                     2377 non-null   int64  \n",
      " 1   rop                       2377 non-null   float64\n",
      " 2   wob                       2377 non-null   float64\n",
      " 3   rpm_bit                   2377 non-null   object \n",
      " 4   mudweight_in              2377 non-null   float64\n",
      " 5   mudweight_out             2377 non-null   float64\n",
      " 6   P ovb For Soft formation  2377 non-null   float64\n",
      " 7   P ovb For Hard formation  2377 non-null   float64\n",
      " 8   P ovb                     2377 non-null   float64\n",
      " 9   d                         2377 non-null   float64\n",
      " 10  D-Adjust                  2377 non-null   float64\n",
      " 11  PP Zamora Method          2377 non-null   float64\n",
      " 12  PP Eaton Method           2377 non-null   float64\n",
      "dtypes: float64(11), int64(1), object(1)\n",
      "memory usage: 241.5+ KB\n"
     ]
    }
   ],
   "source": [
    "df.info()"
   ]
  },
  {
   "cell_type": "code",
   "execution_count": 33,
   "metadata": {
    "colab": {
     "base_uri": "https://localhost:8080/",
     "height": 206
    },
    "executionInfo": {
     "elapsed": 333,
     "status": "ok",
     "timestamp": 1731524041743,
     "user": {
      "displayName": "Naeimeh Nour",
      "userId": "06407853353421918609"
     },
     "user_tz": 0
    },
    "id": "F62RFWhsyKv_",
    "outputId": "c8fc8ce0-12d3-4f23-a0ab-67eea617b78a"
   },
   "outputs": [
    {
     "data": {
      "text/html": [
       "<div>\n",
       "<style scoped>\n",
       "    .dataframe tbody tr th:only-of-type {\n",
       "        vertical-align: middle;\n",
       "    }\n",
       "\n",
       "    .dataframe tbody tr th {\n",
       "        vertical-align: top;\n",
       "    }\n",
       "\n",
       "    .dataframe thead th {\n",
       "        text-align: right;\n",
       "    }\n",
       "</style>\n",
       "<table border=\"1\" class=\"dataframe\">\n",
       "  <thead>\n",
       "    <tr style=\"text-align: right;\">\n",
       "      <th></th>\n",
       "      <th>depth</th>\n",
       "      <th>rop</th>\n",
       "      <th>wob</th>\n",
       "      <th>rpm_bit</th>\n",
       "      <th>mudweight_in</th>\n",
       "      <th>mudweight_out</th>\n",
       "      <th>PP Zamora Method</th>\n",
       "    </tr>\n",
       "  </thead>\n",
       "  <tbody>\n",
       "    <tr>\n",
       "      <th>0</th>\n",
       "      <td>62</td>\n",
       "      <td>0.1</td>\n",
       "      <td>3.2</td>\n",
       "      <td>71</td>\n",
       "      <td>66.0</td>\n",
       "      <td>66.0</td>\n",
       "      <td>8.67</td>\n",
       "    </tr>\n",
       "    <tr>\n",
       "      <th>1</th>\n",
       "      <td>63</td>\n",
       "      <td>0.1</td>\n",
       "      <td>3.2</td>\n",
       "      <td>71</td>\n",
       "      <td>66.0</td>\n",
       "      <td>66.0</td>\n",
       "      <td>8.67</td>\n",
       "    </tr>\n",
       "    <tr>\n",
       "      <th>2</th>\n",
       "      <td>64</td>\n",
       "      <td>0.2</td>\n",
       "      <td>2.0</td>\n",
       "      <td></td>\n",
       "      <td>66.0</td>\n",
       "      <td>66.0</td>\n",
       "      <td>8.67</td>\n",
       "    </tr>\n",
       "    <tr>\n",
       "      <th>3</th>\n",
       "      <td>65</td>\n",
       "      <td>0.3</td>\n",
       "      <td>1.8</td>\n",
       "      <td>83</td>\n",
       "      <td>66.0</td>\n",
       "      <td>66.0</td>\n",
       "      <td>8.67</td>\n",
       "    </tr>\n",
       "    <tr>\n",
       "      <th>4</th>\n",
       "      <td>66</td>\n",
       "      <td>0.3</td>\n",
       "      <td>1.4</td>\n",
       "      <td>85</td>\n",
       "      <td>66.0</td>\n",
       "      <td>66.0</td>\n",
       "      <td>8.67</td>\n",
       "    </tr>\n",
       "  </tbody>\n",
       "</table>\n",
       "</div>"
      ],
      "text/plain": [
       "   depth   rop  wob rpm_bit  mudweight_in   mudweight_out   PP Zamora Method\n",
       "0      62  0.1  3.2      71           66.0            66.0              8.67\n",
       "1      63  0.1  3.2      71           66.0            66.0              8.67\n",
       "2      64  0.2  2.0                   66.0            66.0              8.67\n",
       "3      65  0.3  1.8      83           66.0            66.0              8.67\n",
       "4      66  0.3  1.4      85           66.0            66.0              8.67"
      ]
     },
     "execution_count": 33,
     "metadata": {},
     "output_type": "execute_result"
    }
   ],
   "source": [
    "# Drop unnecessary features\n",
    "df = df.drop(\n",
    "    ['P ovb For Soft formation', 'P ovb For Hard formation', 'P ovb', 'd', 'D-Adjust',\n",
    "     'PP Eaton Method'], axis=1\n",
    ")\n",
    "df = df.drop(0, axis=0)\n",
    "df = df.reset_index(drop=True)\n",
    "df.head()"
   ]
  },
  {
   "cell_type": "code",
   "execution_count": 34,
   "metadata": {
    "executionInfo": {
     "elapsed": 336,
     "status": "ok",
     "timestamp": 1731524044427,
     "user": {
      "displayName": "Naeimeh Nour",
      "userId": "06407853353421918609"
     },
     "user_tz": 0
    },
    "id": "FAS85E6Q3o9W"
   },
   "outputs": [],
   "source": [
    "df['rpm_bit'] = pd.to_numeric(df['rpm_bit'], errors='coerce')"
   ]
  },
  {
   "cell_type": "code",
   "execution_count": null,
   "metadata": {},
   "outputs": [],
   "source": [
    "# Plot histograms for normalized data\n",
    "\n",
    "df_normalized = (df - df.min()) / (df.max() - df.min())  # Min-max normalization\n",
    "\n",
    "df_normalized.hist(figsize=(15, 10), bins=30, layout=(5, 5))\n",
    "plt.suptitle(\"Normalized Feature Distribution\", fontsize=16)\n",
    "plt.show()\n",
    "\n",
    "# Alternatively, density plot\n",
    "df_normalized.plot(kind='density', subplots=True, layout=(5, 5), figsize=(15, 10), sharex=False)\n",
    "plt.suptitle(\"Normalized Feature Density\", fontsize=16)\n",
    "plt.show()\n"
   ]
  },
  {
   "cell_type": "code",
   "execution_count": 6,
   "metadata": {},
   "outputs": [
    {
     "data": {
      "image/png": "[encoded data removed]",
      "text/plain": [
       "<Figure size 1500x800 with 1 Axes>"
      ]
     },
     "metadata": {},
     "output_type": "display_data"
    }
   ],
   "source": [
    "# Box Plot\n",
    "plt.figure(figsize=(15, 8))\n",
    "sns.boxplot(data=df_normalized, orient='h', palette=\"coolwarm\")\n",
    "plt.title(\"Box Plot of Normalized Features\", fontsize=16)\n",
    "plt.show()\n"
   ]
  },
  {
   "cell_type": "code",
   "execution_count": null,
   "metadata": {},
   "outputs": [
    {
     "name": "stdout",
     "output_type": "stream",
     "text": [
      "\n",
      "Baseline Linear Regression (With Transformation and Scaling):\n",
      "Train MSE: 1.364066671502974e-06\n",
      "Train R2 Score: 0.999859404917546\n",
      "Test MSE: 8.409898833726393e-07\n",
      "Test R2 Score: 0.9999143132459137\n",
      "\n",
      "Ridge Regression:\n",
      "Train MSE: 4.635596185423026e-06\n",
      "Train R2 Score: 0.9995222066182478\n",
      "Test MSE: 4.756823036993273e-06\n",
      "Test R2 Score: 0.9995153369453528\n",
      "\n",
      "Random Forest Regressor:\n",
      "Train MSE: 2.5190158990251548e-05\n",
      "Train R2 Score: 0.9974036368205074\n",
      "Test MSE: 0.00013112085338489935\n",
      "Test R2 Score: 0.9866403620998171\n",
      "\n",
      "Overfitting/Underfitting Analysis:\n",
      "Linear Regression Train-Test R2 Gap: -0.0001\n",
      "Ridge Regression Train-Test R2 Gap: 0.0000\n",
      "Random Forest Train-Test R2 Gap: 0.0108\n"
     ]
    }
   ],
   "source": [
    "# Separate features and target\n",
    "X = df.drop('PP Zamora Method', axis=1)\n",
    "y = df['PP Zamora Method']\n",
    "\n",
    "# Transformation to Reduce Skewness - Apply log(1+x) transformation to reduce skewness\n",
    "df_transformed = df.copy()\n",
    "for col in df_transformed.columns:\n",
    "    df_transformed[col] = np.log1p(df_transformed[col])\n",
    "\n",
    "X_transformed = df_transformed.drop('PP Zamora Method', axis=1)\n",
    "\n",
    "# Train/test split on transformed data\n",
    "X_train, X_test, y_train, y_test = train_test_split(X_transformed, y, test_size=0.3, random_state=42)\n",
    "\n",
    "# Robust Scaling\n",
    "scaler = RobustScaler()\n",
    "X_train_scaled = scaler.fit_transform(X_train)\n",
    "X_test_scaled = scaler.transform(X_test)\n",
    "\n",
    "# Baseline Linear Regression\n",
    "lr = LinearRegression()\n",
    "lr.fit(X_train_scaled, y_train)\n",
    "y_train_pred = lr.predict(X_train_scaled)\n",
    "y_test_pred = lr.predict(X_test_scaled)\n",
    "\n",
    "print(\"\\nBaseline Linear Regression (With Transformation and Scaling):\")\n",
    "print(\"Train MSE:\", mean_squared_error(y_train, y_train_pred))\n",
    "print(\"Train R2 Score:\", r2_score(y_train, y_train_pred))\n",
    "print(\"Test MSE:\", mean_squared_error(y_test, y_test_pred))\n",
    "print(\"Test R2 Score:\", r2_score(y_test, y_test_pred))\n",
    "\n",
    "# Ridge Regression (To Handle Outliers and Reduce Overfitting)\n",
    "ridge = Ridge(alpha=1.0)\n",
    "ridge.fit(X_train_scaled, y_train)\n",
    "y_train_pred_ridge = ridge.predict(X_train_scaled)\n",
    "y_test_pred_ridge = ridge.predict(X_test_scaled)\n",
    "\n",
    "print(\"\\nRidge Regression:\")\n",
    "print(\"Train MSE:\", mean_squared_error(y_train, y_train_pred_ridge))\n",
    "print(\"Train R2 Score:\", r2_score(y_train, y_train_pred_ridge))\n",
    "print(\"Test MSE:\", mean_squared_error(y_test, y_test_pred_ridge))\n",
    "print(\"Test R2 Score:\", r2_score(y_test, y_test_pred_ridge))\n",
    "\n",
    "# Random Forest Regressor (Handling Nonlinear Relationships and Outliers)\n",
    "rf = RandomForestRegressor(n_estimators=100, random_state=42)\n",
    "rf.fit(X_train_scaled, y_train)\n",
    "y_train_pred_rf = rf.predict(X_train_scaled)\n",
    "y_test_pred_rf = rf.predict(X_test_scaled)\n",
    "\n",
    "print(\"\\nRandom Forest Regressor:\")\n",
    "print(\"Train MSE:\", mean_squared_error(y_train, y_train_pred_rf))\n",
    "print(\"Train R2 Score:\", r2_score(y_train, y_train_pred_rf))\n",
    "print(\"Test MSE:\", mean_squared_error(y_test, y_test_pred_rf))\n",
    "print(\"Test R2 Score:\", r2_score(y_test, y_test_pred_rf))\n",
    "\n",
    "# Check for Overfitting and Underfitting - Calculate performance gaps between train and test sets\n",
    "lr_train_test_gap = r2_score(y_train, y_train_pred) - r2_score(y_test, y_test_pred)\n",
    "ridge_train_test_gap = r2_score(y_train, y_train_pred_ridge) - r2_score(y_test, y_test_pred_ridge)\n",
    "rf_train_test_gap = r2_score(y_train, y_train_pred_rf) - r2_score(y_test, y_test_pred_rf)\n",
    "\n",
    "print(\"\\nOverfitting/Underfitting Analysis:\")\n",
    "print(f\"Linear Regression Train-Test R2 Gap: {lr_train_test_gap:.4f}\")\n",
    "print(f\"Ridge Regression Train-Test R2 Gap: {ridge_train_test_gap:.4f}\")\n",
    "print(f\"Random Forest Train-Test R2 Gap: {rf_train_test_gap:.4f}\")\n"
   ]
  },
  {
   "cell_type": "code",
   "execution_count": 80,
   "metadata": {},
   "outputs": [
    {
     "name": "stdout",
     "output_type": "stream",
     "text": [
      "\n",
      "Cross-Validation R² Scores for Linear Regression: [0.9998805  0.99969942 0.99990668 0.99989144 0.99992163]\n",
      "Mean CV R² Score: 0.9998599330287856\n"
     ]
    }
   ],
   "source": [
    "# Cross-validation for Linear Regression\n",
    "cv_scores = cross_val_score(lr, X_train_scaled, y_train, cv=5, scoring='r2')\n",
    "print(\"\\nCross-Validation R² Scores for Linear Regression:\", cv_scores)\n",
    "print(\"Mean CV R² Score:\", np.mean(cv_scores))\n"
   ]
  },
  {
   "cell_type": "code",
   "execution_count": 8,
   "metadata": {},
   "outputs": [
    {
     "name": "stdout",
     "output_type": "stream",
     "text": [
      "\n",
      "Predictions for New Data:\n",
      "Linear Regression Prediction: 8.585599090304537\n",
      "Ridge Regression Prediction: 8.584758942939152\n",
      "Random Forest Prediction: 8.58683270665427\n"
     ]
    }
   ],
   "source": [
    "# Example: New data input \n",
    "new_data = {\n",
    "    'ROP': [19.58],\n",
    "    'ROP.1': [0.05],\n",
    "    'WOB.1': [2.33],\n",
    "    'BIT_RPM': [50],\n",
    "    'MWI': [64.51],\n",
    "    'MWO': [65.14],\n",
    "}\n",
    "\n",
    "# Convert the dictionary to a DataFrame\n",
    "new_data_df = pd.DataFrame(new_data)\n",
    "\n",
    "# Apply Log Transformation\n",
    "new_data_transformed = new_data_df.copy()\n",
    "for col in new_data_transformed.columns:\n",
    "    new_data_transformed[col] = np.log1p(new_data_transformed[col])\n",
    "\n",
    "# Apply Robust Scaling \n",
    "new_data_scaled = scaler.transform(new_data_transformed)\n",
    "\n",
    "# Make Predictions with Each Model\n",
    "# Linear Regression Prediction\n",
    "linear_pred = lr.predict(new_data_scaled)\n",
    "\n",
    "# Ridge Regression Prediction\n",
    "ridge_pred = ridge.predict(new_data_scaled)\n",
    "\n",
    "# Random Forest Prediction\n",
    "rf_pred = rf.predict(new_data_scaled)\n",
    "\n",
    "# Display the predictions\n",
    "print(\"\\nPredictions for New Data:\")\n",
    "print(f\"Linear Regression Prediction: {linear_pred[0]}\")\n",
    "print(f\"Ridge Regression Prediction: {ridge_pred[0]}\")\n",
    "print(f\"Random Forest Prediction: {rf_pred[0]}\")\n"
   ]
  },
  {
   "cell_type": "code",
   "execution_count": 9,
   "metadata": {},
   "outputs": [
    {
     "data": {
      "image/png": "[encoded data removed]",
      "text/plain": [
       "<Figure size 1000x600 with 1 Axes>"
      ]
     },
     "metadata": {},
     "output_type": "display_data"
    },
    {
     "data": {
      "image/png": "[encoded data removed]",
      "text/plain": [
       "<Figure size 1000x600 with 1 Axes>"
      ]
     },
     "metadata": {},
     "output_type": "display_data"
    }
   ],
   "source": [
    "import matplotlib.pyplot as plt\n",
    "import numpy as np\n",
    "\n",
    "# Performance metrics from the code\n",
    "algorithms = [\"Linear Regression\", \"Ridge Regression\", \"Random Forest\"]\n",
    "\n",
    "# R² scores\n",
    "r2_train = [0.999859404917546, 0.9995222066182478, 0.9974036368205074]\n",
    "r2_test = [0.9999143132459137, 0.9995153369453528, 0.9866403620998171]\n",
    "\n",
    "# MSE values\n",
    "mse_train = [1.364066671502974e-06, 4.635596185423026e-06, 2.5190158990251548e-05]\n",
    "mse_test = [8.409898833726393e-07, 4.756823036993273e-06, 0.00013112085338489935]\n",
    "\n",
    "# R² Score Comparison Bar Chart\n",
    "x = np.arange(len(algorithms))  # Label locations\n",
    "width = 0.35  # Bar width\n",
    "\n",
    "fig, ax = plt.subplots(figsize=(10, 6))\n",
    "bars1 = ax.bar(x - width/2, r2_train, width, label='Train R²', alpha=0.8)\n",
    "bars2 = ax.bar(x + width/2, r2_test, width, label='Test R²', alpha=0.8)\n",
    "\n",
    "ax.set_xlabel('Algorithms')\n",
    "ax.set_ylabel('R² Score')\n",
    "ax.set_title('R² Score Comparison')\n",
    "ax.set_xticks(x)\n",
    "ax.set_xticklabels(algorithms)\n",
    "ax.legend()\n",
    "plt.show()\n",
    "\n",
    "# MSE Comparison Bar Chart\n",
    "fig, ax = plt.subplots(figsize=(10, 6))\n",
    "bars1 = ax.bar(x - width/2, mse_train, width, label='Train MSE', alpha=0.8)\n",
    "bars2 = ax.bar(x + width/2, mse_test, width, label='Test MSE', alpha=0.8)\n",
    "\n",
    "ax.set_xlabel('Algorithms')\n",
    "ax.set_ylabel('MSE')\n",
    "ax.set_title('MSE Comparison')\n",
    "ax.set_xticks(x)\n",
    "ax.set_xticklabels(algorithms)\n",
    "ax.legend()\n",
    "plt.show()\n"
   ]
  },
  {
   "cell_type": "code",
   "execution_count": null,
   "metadata": {},
   "outputs": [],
   "source": []
  }
 ],
 "metadata": {
  "colab": {
   "provenance": []
  },
  "kernelspec": {
   "display_name": "Python 3",
   "name": "python3"
  },
  "language_info": {
   "codemirror_mode": {
    "name": "ipython",
    "version": 3
   },
   "file_extension": ".py",
   "mimetype": "text/x-python",
   "name": "python",
   "nbconvert_exporter": "python",
   "pygments_lexer": "ipython3",
   "version": "3.11.0"
  }
 },
 "nbformat": 4,
 "nbformat_minor": 0
}
